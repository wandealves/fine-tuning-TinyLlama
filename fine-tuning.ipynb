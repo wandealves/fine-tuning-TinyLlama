{
 "cells": [
  {
   "cell_type": "code",
   "execution_count": null,
   "metadata": {},
   "outputs": [],
   "source": [
    "!pip install accelerate peft bitsandbytes transformers trl"
   ]
  },
  {
   "cell_type": "code",
   "execution_count": null,
   "metadata": {},
   "outputs": [],
   "source": [
    "\n",
    "import torch\n",
    "from datasets import load_dataset, Dataset\n",
    "from peft import LoraConfig, AutoPeftModelForCausalLM\n",
    "from transformers import AutoModelForCausalLM, AutoTokenizer, BitsAndBytesConfig, TrainingArguments\n",
    "from trl import SFTTrainer\n",
    "import os"
   ]
  },
  {
   "cell_type": "code",
   "execution_count": null,
   "metadata": {},
   "outputs": [],
   "source": [
    "dataset=\"burkelibbey/colors\"\n",
    "model_id=\"TinyLlama/TinyLlama-1.1B-Chat-v1.0\"\n",
    "output_model=\"tinyllama-colorist-v1\""
   ]
  },
  {
   "cell_type": "code",
   "execution_count": null,
   "metadata": {},
   "outputs": [],
   "source": [
    "# we need to reformat the data in teh ChatML format.\n",
    "\n",
    "def formatted_train(input,response)->str:\n",
    "    return f\"<|user|>\\n{input}</s>\\n<|assistant|>\\n{response}</s>\""
   ]
  },
  {
   "cell_type": "code",
   "execution_count": null,
   "metadata": {},
   "outputs": [],
   "source": [
    "def prepare_train_data(data_id):\n",
    "    data = load_dataset(data_id, split=\"train\")\n",
    "    data_df = data.to_pandas()\n",
    "    data_df[\"text\"] = data_df[[\"description\", \"color\"]].apply(lambda x: \"<|user|>\\n\" + x[\"description\"] + \"</s>\\n<|assistant|>\\n\" + x[\"color\"] + \"</s>\", axis=1)\n",
    "    data = Dataset.from_pandas(data_df)\n",
    "    return data"
   ]
  },
  {
   "cell_type": "code",
   "execution_count": null,
   "metadata": {},
   "outputs": [],
   "source": [
    "data = prepare_train_data(dataset)"
   ]
  },
  {
   "cell_type": "code",
   "execution_count": null,
   "metadata": {},
   "outputs": [],
   "source": [
    "data[0]"
   ]
  },
  {
   "cell_type": "code",
   "execution_count": null,
   "metadata": {},
   "outputs": [],
   "source": [
    "def get_model_and_tokenizer(mode_id):\n",
    "\n",
    "    tokenizer = AutoTokenizer.from_pretrained(mode_id)\n",
    "    tokenizer.pad_token = tokenizer.eos_token\n",
    "    bnb_config = BitsAndBytesConfig(\n",
    "        load_in_4bit=True, bnb_4bit_quant_type=\"nf4\", bnb_4bit_compute_dtype=\"float16\", bnb_4bit_use_double_quant=True\n",
    "    )\n",
    "    model = AutoModelForCausalLM.from_pretrained(\n",
    "        mode_id, quantization_config=bnb_config, device_map=\"auto\"\n",
    "    )\n",
    "    model.config.use_cache=False\n",
    "    model.config.pretraining_tp=1\n",
    "    return model, tokenizer"
   ]
  },
  {
   "cell_type": "code",
   "execution_count": null,
   "metadata": {},
   "outputs": [],
   "source": [
    "model, tokenizer = get_model_and_tokenizer(model_id)"
   ]
  },
  {
   "cell_type": "code",
   "execution_count": null,
   "metadata": {},
   "outputs": [],
   "source": [
    "peft_config = LoraConfig(\n",
    "    r=2,  # Reduzido para diminuir a memória usada pelo LoRA\n",
    "    lora_alpha=4,  # Reduzido para diminuir a intensidade das atualizações\n",
    "    lora_dropout=0.05,  # Mantido o mesmo\n",
    "    bias=\"none\",\n",
    "    task_type=\"CAUSAL_LM\"\n",
    ")"
   ]
  },
  {
   "cell_type": "code",
   "execution_count": null,
   "metadata": {},
   "outputs": [],
   "source": [
    "training_arguments = TrainingArguments(\n",
    "    output_dir=output_model,\n",
    "    per_device_train_batch_size=4,  # Reduzido de 16 para 4\n",
    "    gradient_accumulation_steps=8,  # Aumentado para manter um tamanho de batch efetivo\n",
    "    optim=\"paged_adamw_32bit\",\n",
    "    learning_rate=2e-4,\n",
    "    lr_scheduler_type=\"cosine\",\n",
    "    save_strategy=\"epoch\",\n",
    "    logging_steps=10,\n",
    "    num_train_epochs=3,\n",
    "    max_steps=60,  # Reduzido para limitar o número de passos\n",
    "    fp16=True,  # Mantido o mesmo para aproveitar a eficiência de memória\n",
    "    # push_to_hub=True\n",
    ")"
   ]
  },
  {
   "cell_type": "code",
   "execution_count": null,
   "metadata": {},
   "outputs": [],
   "source": [
    "trainer = SFTTrainer(\n",
    "    model=model,\n",
    "    train_dataset=data,\n",
    "    peft_config=peft_config,\n",
    "    dataset_text_field=\"text\",\n",
    "    args=training_arguments,\n",
    "    tokenizer=tokenizer,\n",
    "    packing=False,\n",
    "    max_seq_length=512  # Reduzido para 512 para economizar memória\n",
    ")"
   ]
  },
  {
   "cell_type": "code",
   "execution_count": null,
   "metadata": {},
   "outputs": [],
   "source": [
    "trainer.train()"
   ]
  },
  {
   "cell_type": "code",
   "execution_count": null,
   "metadata": {},
   "outputs": [],
   "source": [
    "from peft import AutoPeftModelForCausalLM, PeftModel\n",
    "from transformers import AutoModelForCausalLM\n",
    "import torch\n",
    "import os\n",
    "\n",
    "model = AutoModelForCausalLM.from_pretrained(model_id, torch_dtype=torch.float16, load_in_8bit=False,\n",
    "                                             device_map=\"auto\",\n",
    "                                             trust_remote_code=True)\n",
    "\n",
    "model_path = \"tinyllama-colorist-v1/checkpoint-60\"\n",
    "\n",
    "peft_model = PeftModel.from_pretrained(model, model_path, from_transformers=True, device_map=\"auto\")\n",
    "\n",
    "model = peft_model.merge_and_unload()"
   ]
  },
  {
   "cell_type": "code",
   "execution_count": null,
   "metadata": {},
   "outputs": [],
   "source": [
    "from transformers import GenerationConfig\n",
    "from time import perf_counter\n",
    "\n",
    "def generate_response(user_input):\n",
    "\n",
    "  prompt = formatted_prompt(user_input)\n",
    "\n",
    "  inputs = tokenizer([prompt], return_tensors=\"pt\")\n",
    "  generation_config = GenerationConfig(penalty_alpha=0.6,do_sample = True,\n",
    "      top_k=5,temperature=0.5,repetition_penalty=1.2,\n",
    "      max_new_tokens=12,pad_token_id=tokenizer.eos_token_id\n",
    "  )\n",
    "  start_time = perf_counter()\n",
    "\n",
    "  inputs = tokenizer(prompt, return_tensors=\"pt\").to('cuda')\n",
    "\n",
    "  outputs = model.generate(**inputs, generation_config=generation_config)\n",
    "  print(tokenizer.decode(outputs[0], skip_special_tokens=True))\n",
    "  output_time = perf_counter() - start_time\n",
    "  print(f\"Time taken for inference: {round(output_time,2)} seconds\")"
   ]
  },
  {
   "cell_type": "code",
   "execution_count": null,
   "metadata": {},
   "outputs": [],
   "source": [
    "def formatted_prompt(question)-> str:\n",
    "    return f\"<|user|>\\n{question}</s>\\n<|assistant|>\""
   ]
  },
  {
   "cell_type": "code",
   "execution_count": null,
   "metadata": {},
   "outputs": [],
   "source": [
    "def print_color_space(hex_color):\n",
    "    def hex_to_rgb(hex_color):\n",
    "        hex_color = hex_color.lstrip('#')\n",
    "        return tuple(int(hex_color[i:i+2], 16) for i in (0, 2, 4))\n",
    "    r, g, b = hex_to_rgb(hex_color)\n",
    "    print(f'{hex_color}: \\033[48;2;{r};{g};{b}m           \\033[0m')"
   ]
  },
  {
   "cell_type": "code",
   "execution_count": null,
   "metadata": {},
   "outputs": [],
   "source": [
    "print_color_space('#ffd077')"
   ]
  },
  {
   "cell_type": "code",
   "execution_count": null,
   "metadata": {},
   "outputs": [],
   "source": [
    "generate_response(user_input='Light Orange color')"
   ]
  }
 ],
 "metadata": {
  "kernelspec": {
   "display_name": "base",
   "language": "python",
   "name": "python3"
  },
  "language_info": {
   "codemirror_mode": {
    "name": "ipython",
    "version": 3
   },
   "file_extension": ".py",
   "mimetype": "text/x-python",
   "name": "python",
   "nbconvert_exporter": "python",
   "pygments_lexer": "ipython3",
   "version": "3.10.9"
  }
 },
 "nbformat": 4,
 "nbformat_minor": 2
}
